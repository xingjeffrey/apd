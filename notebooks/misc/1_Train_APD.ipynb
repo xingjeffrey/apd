{
 "cells": [
  {
   "cell_type": "markdown",
   "id": "914691d8",
   "metadata": {},
   "source": [
    "# Train APD model\n",
    "Goal: Replicate Kai's results"
   ]
  },
  {
   "cell_type": "code",
   "execution_count": 1,
   "id": "ccf376dc",
   "metadata": {},
   "outputs": [],
   "source": [
    "## import file tools"
   ]
  },
  {
   "cell_type": "code",
   "execution_count": 2,
   "id": "63e4bd46",
   "metadata": {},
   "outputs": [],
   "source": [
    "import datetime\n",
    "import sys\n",
    "import os"
   ]
  },
  {
   "cell_type": "markdown",
   "id": "3bf841e4",
   "metadata": {},
   "source": [
    "## import general data science tools"
   ]
  },
  {
   "cell_type": "code",
   "execution_count": 3,
   "id": "8574f939",
   "metadata": {},
   "outputs": [],
   "source": [
    "import pandas as pd\n",
    "import numpy as np\n",
    "import matplotlib.pyplot as plt\n",
    "import random\n",
    "from glob import glob\n",
    "import pickle"
   ]
  },
  {
   "cell_type": "markdown",
   "id": "2c651cf6",
   "metadata": {},
   "source": [
    "## import machine learning tools"
   ]
  },
  {
   "cell_type": "code",
   "execution_count": 4,
   "id": "03871d28",
   "metadata": {},
   "outputs": [
    {
     "name": "stderr",
     "output_type": "stream",
     "text": [
      "2024-07-10 12:37:07.775264: E tensorflow/compiler/xla/stream_executor/cuda/cuda_dnn.cc:9342] Unable to register cuDNN factory: Attempting to register factory for plugin cuDNN when one has already been registered\n",
      "2024-07-10 12:37:07.775376: E tensorflow/compiler/xla/stream_executor/cuda/cuda_fft.cc:609] Unable to register cuFFT factory: Attempting to register factory for plugin cuFFT when one has already been registered\n",
      "2024-07-10 12:37:07.781082: E tensorflow/compiler/xla/stream_executor/cuda/cuda_blas.cc:1518] Unable to register cuBLAS factory: Attempting to register factory for plugin cuBLAS when one has already been registered\n"
     ]
    }
   ],
   "source": [
    "import tensorflow as tf\n",
    "# tf.enable_eager_execution()\n",
    "from tensorflow.keras import layers, Sequential, datasets, models, losses, Model, Input\n",
    "from tensorflow.keras.callbacks import EarlyStopping, ModelCheckpoint\n",
    "from tensorflow.keras.optimizers import Adam\n",
    "from sklearn.model_selection import train_test_split\n",
    "from tensorflow.keras.backend import clear_session\n",
    "tf.compat.v1.disable_eager_execution()"
   ]
  },
  {
   "cell_type": "code",
   "execution_count": 5,
   "id": "205ae6d3",
   "metadata": {},
   "outputs": [
    {
     "data": {
      "text/plain": [
       "[PhysicalDevice(name='/physical_device:GPU:0', device_type='GPU'),\n",
       " PhysicalDevice(name='/physical_device:GPU:1', device_type='GPU'),\n",
       " PhysicalDevice(name='/physical_device:GPU:2', device_type='GPU')]"
      ]
     },
     "execution_count": 5,
     "metadata": {},
     "output_type": "execute_result"
    }
   ],
   "source": [
    "tf.config.list_physical_devices('GPU')"
   ]
  },
  {
   "cell_type": "markdown",
   "id": "95217dd3",
   "metadata": {},
   "source": [
    "## import Kai's custom functions"
   ]
  },
  {
   "cell_type": "code",
   "execution_count": 6,
   "id": "19950b25",
   "metadata": {},
   "outputs": [],
   "source": [
    "from apd.utils.trainingfuncs import *\n",
    "from apd.utils.math_utils import *"
   ]
  },
  {
   "cell_type": "markdown",
   "id": "57e29a4a",
   "metadata": {},
   "source": [
    "# Load data"
   ]
  },
  {
   "cell_type": "markdown",
   "id": "1871d1e0",
   "metadata": {},
   "source": [
    "### Load data from starling stable_length"
   ]
  },
  {
   "cell_type": "code",
   "execution_count": 7,
   "id": "574e2b56",
   "metadata": {},
   "outputs": [],
   "source": [
    "sys.path.append(\"..\") # Adds higher directory to python modules path.\n",
    "from apd.helpers.dataset_vars import *\n",
    "from apd.helpers.SoundWav import *"
   ]
  },
  {
   "cell_type": "code",
   "execution_count": 8,
   "id": "25fa19ac",
   "metadata": {},
   "outputs": [],
   "source": [
    "dataset = Dataset('Starling')\n",
    "analysis = 'stable_length'"
   ]
  },
  {
   "cell_type": "code",
   "execution_count": 9,
   "id": "cb6d2bcd",
   "metadata": {},
   "outputs": [],
   "source": [
    "species_folder = dataset.path_save\n",
    "analysis_folder = os.path.join(species_folder, analysis)\n",
    "log_folder = os.path.join(analysis_folder, 'log')"
   ]
  },
  {
   "cell_type": "code",
   "execution_count": 10,
   "id": "fd15e274",
   "metadata": {},
   "outputs": [],
   "source": [
    "spec_file = sorted(glob(os.path.join(log_folder, 'all_specs_star.p')))[-1]"
   ]
  },
  {
   "cell_type": "code",
   "execution_count": 11,
   "id": "597a7091",
   "metadata": {},
   "outputs": [],
   "source": [
    "spec_df = pickle.load(open(spec_file, 'rb'))"
   ]
  },
  {
   "cell_type": "code",
   "execution_count": 12,
   "id": "2d8d1adb",
   "metadata": {},
   "outputs": [
    {
     "data": {
      "text/html": [
       "<div>\n",
       "<style scoped>\n",
       "    .dataframe tbody tr th:only-of-type {\n",
       "        vertical-align: middle;\n",
       "    }\n",
       "\n",
       "    .dataframe tbody tr th {\n",
       "        vertical-align: top;\n",
       "    }\n",
       "\n",
       "    .dataframe thead th {\n",
       "        text-align: right;\n",
       "    }\n",
       "</style>\n",
       "<table border=\"1\" class=\"dataframe\">\n",
       "  <thead>\n",
       "    <tr style=\"text-align: right;\">\n",
       "      <th></th>\n",
       "      <th>name</th>\n",
       "      <th>wav</th>\n",
       "      <th>spec</th>\n",
       "    </tr>\n",
       "  </thead>\n",
       "  <tbody>\n",
       "    <tr>\n",
       "      <th>6995</th>\n",
       "      <td>b1160</td>\n",
       "      <td>/mnt/cube/kai/data_processed/datasets/Starling...</td>\n",
       "      <td>[[-0.8473503, -0.74000514, -0.6745358, -0.6307...</td>\n",
       "    </tr>\n",
       "    <tr>\n",
       "      <th>6996</th>\n",
       "      <td>b1160</td>\n",
       "      <td>/mnt/cube/kai/data_processed/datasets/Starling...</td>\n",
       "      <td>[[-0.618756, -0.6190624, -0.6269182, -0.641789...</td>\n",
       "    </tr>\n",
       "    <tr>\n",
       "      <th>6997</th>\n",
       "      <td>b1160</td>\n",
       "      <td>/mnt/cube/kai/data_processed/datasets/Starling...</td>\n",
       "      <td>[[-0.39242423, -0.3716945, -0.35015196, -0.346...</td>\n",
       "    </tr>\n",
       "    <tr>\n",
       "      <th>6998</th>\n",
       "      <td>b1160</td>\n",
       "      <td>/mnt/cube/kai/data_processed/datasets/Starling...</td>\n",
       "      <td>[[-0.71081, -0.7151853, -0.5816425, -0.5211242...</td>\n",
       "    </tr>\n",
       "    <tr>\n",
       "      <th>6999</th>\n",
       "      <td>b1160</td>\n",
       "      <td>/mnt/cube/kai/data_processed/datasets/Starling...</td>\n",
       "      <td>[[-0.63244075, -0.59842235, -0.56845856, -0.55...</td>\n",
       "    </tr>\n",
       "  </tbody>\n",
       "</table>\n",
       "</div>"
      ],
      "text/plain": [
       "       name                                                wav  \\\n",
       "6995  b1160  /mnt/cube/kai/data_processed/datasets/Starling...   \n",
       "6996  b1160  /mnt/cube/kai/data_processed/datasets/Starling...   \n",
       "6997  b1160  /mnt/cube/kai/data_processed/datasets/Starling...   \n",
       "6998  b1160  /mnt/cube/kai/data_processed/datasets/Starling...   \n",
       "6999  b1160  /mnt/cube/kai/data_processed/datasets/Starling...   \n",
       "\n",
       "                                                   spec  \n",
       "6995  [[-0.8473503, -0.74000514, -0.6745358, -0.6307...  \n",
       "6996  [[-0.618756, -0.6190624, -0.6269182, -0.641789...  \n",
       "6997  [[-0.39242423, -0.3716945, -0.35015196, -0.346...  \n",
       "6998  [[-0.71081, -0.7151853, -0.5816425, -0.5211242...  \n",
       "6999  [[-0.63244075, -0.59842235, -0.56845856, -0.55...  "
      ]
     },
     "execution_count": 12,
     "metadata": {},
     "output_type": "execute_result"
    }
   ],
   "source": [
    "spec_df.tail()"
   ]
  },
  {
   "cell_type": "code",
   "execution_count": 13,
   "id": "f6a17b27",
   "metadata": {},
   "outputs": [],
   "source": [
    "subjs = sorted(spec_df.name.value_counts().keys().tolist())"
   ]
  },
  {
   "cell_type": "code",
   "execution_count": 14,
   "id": "fdf7b768",
   "metadata": {},
   "outputs": [
    {
     "name": "stdout",
     "output_type": "stream",
     "text": [
      "291 707\n"
     ]
    }
   ],
   "source": [
    "spec_h, spec_w = spec_df.spec[0].shape\n",
    "print(spec_h, spec_w)"
   ]
  },
  {
   "cell_type": "code",
   "execution_count": 15,
   "id": "2470517c",
   "metadata": {},
   "outputs": [],
   "source": [
    "spec_list = spec_df.spec.values.tolist()"
   ]
  },
  {
   "cell_type": "code",
   "execution_count": 16,
   "id": "f6add8a7",
   "metadata": {},
   "outputs": [
    {
     "data": {
      "text/plain": [
       "<matplotlib.image.AxesImage at 0x7f68a8818a90>"
      ]
     },
     "execution_count": 16,
     "metadata": {},
     "output_type": "execute_result"
    },
    {
     "data": {
      "image/png": "[encoded data removed]",
      "text/plain": [
       "<Figure size 640x480 with 1 Axes>"
      ]
     },
     "metadata": {},
     "output_type": "display_data"
    }
   ],
   "source": [
    "plt.imshow(spec_list[0][:120,:], origin='lower')"
   ]
  },
  {
   "cell_type": "code",
   "execution_count": 17,
   "id": "997f9f49",
   "metadata": {},
   "outputs": [],
   "source": [
    "subj_list = spec_df.name.values.tolist()"
   ]
  },
  {
   "cell_type": "code",
   "execution_count": 18,
   "id": "07db87ac",
   "metadata": {},
   "outputs": [],
   "source": [
    "n_slices = (4, 1)"
   ]
  },
  {
   "cell_type": "code",
   "execution_count": 19,
   "id": "28cf414d",
   "metadata": {},
   "outputs": [
    {
     "data": {
      "text/plain": [
       "7000"
      ]
     },
     "execution_count": 19,
     "metadata": {},
     "output_type": "execute_result"
    }
   ],
   "source": [
    "len(spec_df) ## 500 exemplars for 14 subjects"
   ]
  },
  {
   "cell_type": "markdown",
   "id": "0296bf0d",
   "metadata": {},
   "source": [
    "# Pretraining\n",
    "### Spectrographic Jigsaw\n",
    "Once you have your spectrograms, you want to slice them into the appropriate format for the spectrographic jigsaw. "
   ]
  },
  {
   "cell_type": "code",
   "execution_count": 20,
   "id": "76056291",
   "metadata": {},
   "outputs": [],
   "source": [
    "divided_w = spec_w//3"
   ]
  },
  {
   "cell_type": "code",
   "execution_count": 37,
   "id": "8c65160e",
   "metadata": {},
   "outputs": [
    {
     "data": {
      "text/plain": [
       "235"
      ]
     },
     "execution_count": 37,
     "metadata": {},
     "output_type": "execute_result"
    }
   ],
   "source": [
    "divided_w"
   ]
  },
  {
   "cell_type": "code",
   "execution_count": 21,
   "id": "a9e63091",
   "metadata": {},
   "outputs": [
    {
     "name": "stderr",
     "output_type": "stream",
     "text": [
      "/tmp/ipykernel_2868648/2821822015.py:6: DeprecationWarning: `product` is deprecated as of NumPy 1.25.0, and will be removed in NumPy 2.0. Please use `prod` instead.\n",
      "  slice_list, index_list = slice_matrix(spec[:, divided_w*i:divided_w*(i+1)],\n"
     ]
    }
   ],
   "source": [
    "input_list = []\n",
    "output_list = []\n",
    "\n",
    "for spec in spec_list:\n",
    "    for i in range(3):\n",
    "        slice_list, index_list = slice_matrix(spec[:, divided_w*i:divided_w*(i+1)], \n",
    "                                              n_slices=n_slices, slice_shape=(55, 224))\n",
    "        input_list.append(slice_list)\n",
    "        output_list.append(index_list)"
   ]
  },
  {
   "cell_type": "code",
   "execution_count": 22,
   "id": "e550a940",
   "metadata": {},
   "outputs": [],
   "source": [
    "input_list = np.array(input_list)"
   ]
  },
  {
   "cell_type": "code",
   "execution_count": 23,
   "id": "e1edb2a5",
   "metadata": {
    "scrolled": true
   },
   "outputs": [
    {
     "data": {
      "text/plain": [
       "(21000, 4, 55, 224, 3)"
      ]
     },
     "execution_count": 23,
     "metadata": {},
     "output_type": "execute_result"
    }
   ],
   "source": [
    "input_list.shape ## 21000"
   ]
  },
  {
   "cell_type": "code",
   "execution_count": 24,
   "id": "6a900095",
   "metadata": {},
   "outputs": [
    {
     "data": {
      "text/plain": [
       "array([[[[-0.76836526, -0.76836526, -0.76836526],\n",
       "         [-0.82801026, -0.82801026, -0.82801026],\n",
       "         [-0.789782  , -0.789782  , -0.789782  ],\n",
       "         ...,\n",
       "         [-0.73357916, -0.73357916, -0.73357916],\n",
       "         [-0.70962536, -0.70962536, -0.70962536],\n",
       "         [-0.70479596, -0.70479596, -0.70479596]],\n",
       "\n",
       "        [[-0.7303287 , -0.7303287 , -0.7303287 ],\n",
       "         [-0.7505501 , -0.7505501 , -0.7505501 ],\n",
       "         [-0.8019177 , -0.8019177 , -0.8019177 ],\n",
       "         ...,\n",
       "         [-0.78207695, -0.78207695, -0.78207695],\n",
       "         [-0.8078543 , -0.8078543 , -0.8078543 ],\n",
       "         [-0.7872305 , -0.7872305 , -0.7872305 ]],\n",
       "\n",
       "        [[-0.7000191 , -0.7000191 , -0.7000191 ],\n",
       "         [-0.75044155, -0.75044155, -0.75044155],\n",
       "         [-0.84564173, -0.84564173, -0.84564173],\n",
       "         ...,\n",
       "         [-0.7725792 , -0.7725792 , -0.7725792 ],\n",
       "         [-0.77437866, -0.77437866, -0.77437866],\n",
       "         [-0.7738285 , -0.7738285 , -0.7738285 ]],\n",
       "\n",
       "        ...,\n",
       "\n",
       "        [[-0.644836  , -0.644836  , -0.644836  ],\n",
       "         [-0.6908092 , -0.6908092 , -0.6908092 ],\n",
       "         [-0.7642886 , -0.7642886 , -0.7642886 ],\n",
       "         ...,\n",
       "         [-0.9391402 , -0.9391402 , -0.9391402 ],\n",
       "         [-0.8866054 , -0.8866054 , -0.8866054 ],\n",
       "         [-0.86623365, -0.86623365, -0.86623365]],\n",
       "\n",
       "        [[-0.71281445, -0.71281445, -0.71281445],\n",
       "         [-0.7096421 , -0.7096421 , -0.7096421 ],\n",
       "         [-0.78168964, -0.78168964, -0.78168964],\n",
       "         ...,\n",
       "         [-0.8840889 , -0.8840889 , -0.8840889 ],\n",
       "         [-0.89621276, -0.89621276, -0.89621276],\n",
       "         [-0.8825844 , -0.8825844 , -0.8825844 ]],\n",
       "\n",
       "        [[-0.67609894, -0.67609894, -0.67609894],\n",
       "         [-0.6928836 , -0.6928836 , -0.6928836 ],\n",
       "         [-0.78520334, -0.78520334, -0.78520334],\n",
       "         ...,\n",
       "         [-0.9698421 , -0.9698421 , -0.9698421 ],\n",
       "         [-1.        , -1.        , -1.        ],\n",
       "         [-1.        , -1.        , -1.        ]]],\n",
       "\n",
       "\n",
       "       [[[-0.56269866, -0.56269866, -0.56269866],\n",
       "         [-0.5515591 , -0.5515591 , -0.5515591 ],\n",
       "         [-0.46325117, -0.46325117, -0.46325117],\n",
       "         ...,\n",
       "         [-0.87756175, -0.87756175, -0.87756175],\n",
       "         [-0.89729154, -0.89729154, -0.89729154],\n",
       "         [-0.8665315 , -0.8665315 , -0.8665315 ]],\n",
       "\n",
       "        [[-0.56271404, -0.56271404, -0.56271404],\n",
       "         [-0.50281626, -0.50281626, -0.50281626],\n",
       "         [-0.45380482, -0.45380482, -0.45380482],\n",
       "         ...,\n",
       "         [-0.87150955, -0.87150955, -0.87150955],\n",
       "         [-0.8768692 , -0.8768692 , -0.8768692 ],\n",
       "         [-0.84383345, -0.84383345, -0.84383345]],\n",
       "\n",
       "        [[-0.6956933 , -0.6956933 , -0.6956933 ],\n",
       "         [-0.5584408 , -0.5584408 , -0.5584408 ],\n",
       "         [-0.4831664 , -0.4831664 , -0.4831664 ],\n",
       "         ...,\n",
       "         [-0.88569593, -0.88569593, -0.88569593],\n",
       "         [-0.87593365, -0.87593365, -0.87593365],\n",
       "         [-0.84865046, -0.84865046, -0.84865046]],\n",
       "\n",
       "        ...,\n",
       "\n",
       "        [[-0.50169843, -0.50169843, -0.50169843],\n",
       "         [-0.48720807, -0.48720807, -0.48720807],\n",
       "         [-0.4952579 , -0.4952579 , -0.4952579 ],\n",
       "         ...,\n",
       "         [-0.45355645, -0.45355645, -0.45355645],\n",
       "         [-0.45594668, -0.45594668, -0.45594668],\n",
       "         [-0.44128084, -0.44128084, -0.44128084]],\n",
       "\n",
       "        [[-0.5353806 , -0.5353806 , -0.5353806 ],\n",
       "         [-0.5119475 , -0.5119475 , -0.5119475 ],\n",
       "         [-0.473656  , -0.473656  , -0.473656  ],\n",
       "         ...,\n",
       "         [-0.50381386, -0.50381386, -0.50381386],\n",
       "         [-0.51500624, -0.51500624, -0.51500624],\n",
       "         [-0.49572396, -0.49572396, -0.49572396]],\n",
       "\n",
       "        [[-0.46828455, -0.46828455, -0.46828455],\n",
       "         [-0.50043046, -0.50043046, -0.50043046],\n",
       "         [-0.52030694, -0.52030694, -0.52030694],\n",
       "         ...,\n",
       "         [-0.5089956 , -0.5089956 , -0.5089956 ],\n",
       "         [-0.5011356 , -0.5011356 , -0.5011356 ],\n",
       "         [-0.50305474, -0.50305474, -0.50305474]]],\n",
       "\n",
       "\n",
       "       [[[-0.9687355 , -0.9687355 , -0.9687355 ],\n",
       "         [-0.965223  , -0.965223  , -0.965223  ],\n",
       "         [-0.9527804 , -0.9527804 , -0.9527804 ],\n",
       "         ...,\n",
       "         [-0.9599161 , -0.9599161 , -0.9599161 ],\n",
       "         [-0.9582454 , -0.9582454 , -0.9582454 ],\n",
       "         [-0.9496741 , -0.9496741 , -0.9496741 ]],\n",
       "\n",
       "        [[-0.9548008 , -0.9548008 , -0.9548008 ],\n",
       "         [-0.9708786 , -0.9708786 , -0.9708786 ],\n",
       "         [-0.9769927 , -0.9769927 , -0.9769927 ],\n",
       "         ...,\n",
       "         [-0.95491105, -0.95491105, -0.95491105],\n",
       "         [-0.9641631 , -0.9641631 , -0.9641631 ],\n",
       "         [-0.97238666, -0.97238666, -0.97238666]],\n",
       "\n",
       "        [[-0.95193636, -0.95193636, -0.95193636],\n",
       "         [-0.9820374 , -0.9820374 , -0.9820374 ],\n",
       "         [-0.9564716 , -0.9564716 , -0.9564716 ],\n",
       "         ...,\n",
       "         [-0.94010955, -0.94010955, -0.94010955],\n",
       "         [-0.9568881 , -0.9568881 , -0.9568881 ],\n",
       "         [-0.9819474 , -0.9819474 , -0.9819474 ]],\n",
       "\n",
       "        ...,\n",
       "\n",
       "        [[-0.85204947, -0.85204947, -0.85204947],\n",
       "         [-0.86818457, -0.86818457, -0.86818457],\n",
       "         [-0.83641034, -0.83641034, -0.83641034],\n",
       "         ...,\n",
       "         [-1.        , -1.        , -1.        ],\n",
       "         [-1.        , -1.        , -1.        ],\n",
       "         [-1.        , -1.        , -1.        ]],\n",
       "\n",
       "        [[-0.8155201 , -0.8155201 , -0.8155201 ],\n",
       "         [-0.79952604, -0.79952604, -0.79952604],\n",
       "         [-0.7832511 , -0.7832511 , -0.7832511 ],\n",
       "         ...,\n",
       "         [-1.        , -1.        , -1.        ],\n",
       "         [-1.        , -1.        , -1.        ],\n",
       "         [-1.        , -1.        , -1.        ]],\n",
       "\n",
       "        [[-0.8222669 , -0.8222669 , -0.8222669 ],\n",
       "         [-0.8056738 , -0.8056738 , -0.8056738 ],\n",
       "         [-0.7919901 , -0.7919901 , -0.7919901 ],\n",
       "         ...,\n",
       "         [-1.        , -1.        , -1.        ],\n",
       "         [-1.        , -1.        , -1.        ],\n",
       "         [-1.        , -1.        , -1.        ]]],\n",
       "\n",
       "\n",
       "       [[[-0.51667434, -0.51667434, -0.51667434],\n",
       "         [-0.3809151 , -0.3809151 , -0.3809151 ],\n",
       "         [-0.29759592, -0.29759592, -0.29759592],\n",
       "         ...,\n",
       "         [-0.99267864, -0.99267864, -0.99267864],\n",
       "         [-0.998886  , -0.998886  , -0.998886  ],\n",
       "         [-0.9984046 , -0.9984046 , -0.9984046 ]],\n",
       "\n",
       "        [[-0.4787716 , -0.4787716 , -0.4787716 ],\n",
       "         [-0.33220214, -0.33220214, -0.33220214],\n",
       "         [-0.260096  , -0.260096  , -0.260096  ],\n",
       "         ...,\n",
       "         [-0.9308459 , -0.9308459 , -0.9308459 ],\n",
       "         [-0.93544436, -0.93544436, -0.93544436],\n",
       "         [-0.9588839 , -0.9588839 , -0.9588839 ]],\n",
       "\n",
       "        [[-0.4370083 , -0.4370083 , -0.4370083 ],\n",
       "         [-0.3213138 , -0.3213138 , -0.3213138 ],\n",
       "         [-0.27226037, -0.27226037, -0.27226037],\n",
       "         ...,\n",
       "         [-0.9352504 , -0.9352504 , -0.9352504 ],\n",
       "         [-0.97349966, -0.97349966, -0.97349966],\n",
       "         [-0.98657686, -0.98657686, -0.98657686]],\n",
       "\n",
       "        ...,\n",
       "\n",
       "        [[-0.6611885 , -0.6611885 , -0.6611885 ],\n",
       "         [-0.6709574 , -0.6709574 , -0.6709574 ],\n",
       "         [-0.6931837 , -0.6931837 , -0.6931837 ],\n",
       "         ...,\n",
       "         [-0.95918417, -0.95918417, -0.95918417],\n",
       "         [-0.9668722 , -0.9668722 , -0.9668722 ],\n",
       "         [-0.95879394, -0.95879394, -0.95879394]],\n",
       "\n",
       "        [[-0.68541753, -0.68541753, -0.68541753],\n",
       "         [-0.68655103, -0.68655103, -0.68655103],\n",
       "         [-0.6524778 , -0.6524778 , -0.6524778 ],\n",
       "         ...,\n",
       "         [-0.9069594 , -0.9069594 , -0.9069594 ],\n",
       "         [-0.91347724, -0.91347724, -0.91347724],\n",
       "         [-0.93046904, -0.93046904, -0.93046904]],\n",
       "\n",
       "        [[-0.68969196, -0.68969196, -0.68969196],\n",
       "         [-0.64683276, -0.64683276, -0.64683276],\n",
       "         [-0.55762666, -0.55762666, -0.55762666],\n",
       "         ...,\n",
       "         [-0.9128602 , -0.9128602 , -0.9128602 ],\n",
       "         [-0.93487424, -0.93487424, -0.93487424],\n",
       "         [-0.93590057, -0.93590057, -0.93590057]]]], dtype=float32)"
      ]
     },
     "execution_count": 24,
     "metadata": {},
     "output_type": "execute_result"
    }
   ],
   "source": [
    "input_list[0]"
   ]
  },
  {
   "cell_type": "code",
   "execution_count": 39,
   "id": "be06e8ac",
   "metadata": {},
   "outputs": [],
   "source": [
    "input_list = np.transpose(input_list, (1, 0, 2, 3, 4))"
   ]
  },
  {
   "cell_type": "code",
   "execution_count": 40,
   "id": "89e1b491",
   "metadata": {},
   "outputs": [
    {
     "data": {
      "text/plain": [
       "(21000, 4, 55, 224, 3)"
      ]
     },
     "execution_count": 40,
     "metadata": {},
     "output_type": "execute_result"
    }
   ],
   "source": [
    "input_list.shape"
   ]
  },
  {
   "cell_type": "code",
   "execution_count": 27,
   "id": "7078f7bd",
   "metadata": {},
   "outputs": [
    {
     "data": {
      "text/plain": [
       "1.3003174603174603"
      ]
     },
     "execution_count": 27,
     "metadata": {},
     "output_type": "execute_result"
    }
   ],
   "source": [
    "224 * 256 / 44100"
   ]
  },
  {
   "cell_type": "code",
   "execution_count": null,
   "id": "e21dfdcb",
   "metadata": {},
   "outputs": [],
   "source": [
    "librosa.get_duration(sr = 44100, S = )"
   ]
  },
  {
   "cell_type": "code",
   "execution_count": 38,
   "id": "15f8c704",
   "metadata": {},
   "outputs": [
    {
     "data": {
      "text/plain": [
       "1.364172335600907"
      ]
     },
     "execution_count": 38,
     "metadata": {},
     "output_type": "execute_result"
    }
   ],
   "source": [
    "235 * 256 / 44100"
   ]
  },
  {
   "cell_type": "code",
   "execution_count": 33,
   "id": "d1be9869",
   "metadata": {},
   "outputs": [],
   "source": [
    "output_data = np.array(output_list)"
   ]
  },
  {
   "cell_type": "code",
   "execution_count": 35,
   "id": "42ff4f39",
   "metadata": {},
   "outputs": [
    {
     "data": {
      "text/plain": [
       "(21000, 4)"
      ]
     },
     "execution_count": 35,
     "metadata": {},
     "output_type": "execute_result"
    }
   ],
   "source": [
    "output_data.shape"
   ]
  },
  {
   "cell_type": "code",
   "execution_count": 41,
   "id": "344c71e2",
   "metadata": {},
   "outputs": [],
   "source": [
    "input_train, input_test, output_train, output_test = train_test_split(input_list, output_list, test_size = 0.1, \n",
    "                                                                      random_state=20)"
   ]
  },
  {
   "cell_type": "code",
   "execution_count": 44,
   "id": "6a43f7ab",
   "metadata": {},
   "outputs": [
    {
     "data": {
      "text/plain": [
       "(18900, 4, 55, 224, 3)"
      ]
     },
     "execution_count": 44,
     "metadata": {},
     "output_type": "execute_result"
    }
   ],
   "source": [
    "input_train.shape"
   ]
  },
  {
   "cell_type": "code",
   "execution_count": 45,
   "id": "435dc292",
   "metadata": {},
   "outputs": [
    {
     "data": {
      "text/plain": [
       "(2100, 4, 55, 224, 3)"
      ]
     },
     "execution_count": 45,
     "metadata": {},
     "output_type": "execute_result"
    }
   ],
   "source": [
    "input_test.shape"
   ]
  },
  {
   "cell_type": "code",
   "execution_count": 49,
   "id": "f8e0d828",
   "metadata": {},
   "outputs": [
    {
     "data": {
      "text/plain": [
       "18900"
      ]
     },
     "execution_count": 49,
     "metadata": {},
     "output_type": "execute_result"
    }
   ],
   "source": [
    "len(output_train)"
   ]
  },
  {
   "cell_type": "code",
   "execution_count": 50,
   "id": "2ebda0b1",
   "metadata": {},
   "outputs": [
    {
     "data": {
      "text/plain": [
       "2100"
      ]
     },
     "execution_count": 50,
     "metadata": {},
     "output_type": "execute_result"
    }
   ],
   "source": [
    "len(output_test)"
   ]
  },
  {
   "cell_type": "code",
   "execution_count": 54,
   "id": "07eea637",
   "metadata": {},
   "outputs": [
    {
     "data": {
      "text/plain": [
       "(291, 707)"
      ]
     },
     "execution_count": 54,
     "metadata": {},
     "output_type": "execute_result"
    }
   ],
   "source": [
    "spec_list[0].shape"
   ]
  },
  {
   "cell_type": "code",
   "execution_count": 61,
   "id": "9fba3a06",
   "metadata": {},
   "outputs": [
    {
     "data": {
      "text/plain": [
       "2.5969565119777283"
      ]
     },
     "execution_count": 61,
     "metadata": {},
     "output_type": "execute_result"
    }
   ],
   "source": [
    "librosa.get_duration(S = spec_list[0], n_fft = 2048, hop_length = 256)"
   ]
  },
  {
   "cell_type": "code",
   "execution_count": null,
   "id": "8db4303a",
   "metadata": {},
   "outputs": [],
   "source": []
  }
 ],
 "metadata": {
  "kernelspec": {
   "display_name": "apd",
   "language": "python",
   "name": "apd"
  },
  "language_info": {
   "codemirror_mode": {
    "name": "ipython",
    "version": 3
   },
   "file_extension": ".py",
   "mimetype": "text/x-python",
   "name": "python",
   "nbconvert_exporter": "python",
   "pygments_lexer": "ipython3",
   "version": "3.9.19"
  }
 },
 "nbformat": 4,
 "nbformat_minor": 5
}
